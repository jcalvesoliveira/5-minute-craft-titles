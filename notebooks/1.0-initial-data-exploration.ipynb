{
 "cells": [
  {
   "cell_type": "code",
   "execution_count": 139,
   "metadata": {},
   "outputs": [],
   "source": [
    "import pandas as pd\n",
    "import seaborn as sns\n",
    "import matplotlib.pyplot as plt\n",
    "\n",
    "import nltk\n",
    "from sklearn.cluster import KMeans\n",
    "from sklearn.preprocessing import StandardScaler\n",
    "from sklearn.feature_extraction.text import TfidfVectorizer"
   ]
  },
  {
   "cell_type": "code",
   "execution_count": 140,
   "metadata": {},
   "outputs": [],
   "source": [
    "df = pd.read_csv('../data/external/5-Minute Crafts.csv')"
   ]
  },
  {
   "cell_type": "code",
   "execution_count": 141,
   "metadata": {},
   "outputs": [
    {
     "data": {
      "text/html": [
       "<div>\n",
       "<style scoped>\n",
       "    .dataframe tbody tr th:only-of-type {\n",
       "        vertical-align: middle;\n",
       "    }\n",
       "\n",
       "    .dataframe tbody tr th {\n",
       "        vertical-align: top;\n",
       "    }\n",
       "\n",
       "    .dataframe thead th {\n",
       "        text-align: right;\n",
       "    }\n",
       "</style>\n",
       "<table border=\"1\" class=\"dataframe\">\n",
       "  <thead>\n",
       "    <tr style=\"text-align: right;\">\n",
       "      <th></th>\n",
       "      <th>video_id</th>\n",
       "      <th>title</th>\n",
       "      <th>active_since_days</th>\n",
       "      <th>duration_seconds</th>\n",
       "      <th>total_views</th>\n",
       "      <th>num_chars</th>\n",
       "      <th>num_words</th>\n",
       "      <th>num_punctuation</th>\n",
       "      <th>num_words_uppercase</th>\n",
       "      <th>num_words_lowercase</th>\n",
       "      <th>num_stopwords</th>\n",
       "      <th>avg_word_len</th>\n",
       "      <th>contain_digits</th>\n",
       "      <th>startswith_digits</th>\n",
       "      <th>title_sentiment</th>\n",
       "    </tr>\n",
       "  </thead>\n",
       "  <tbody>\n",
       "    <tr>\n",
       "      <th>0</th>\n",
       "      <td>v=lCePSP4lb-k</td>\n",
       "      <td>Wow! Let's go live! Epic decorations and DIYS</td>\n",
       "      <td>1</td>\n",
       "      <td>558</td>\n",
       "      <td>10825</td>\n",
       "      <td>45</td>\n",
       "      <td>8</td>\n",
       "      <td>3</td>\n",
       "      <td>1</td>\n",
       "      <td>4</td>\n",
       "      <td>1</td>\n",
       "      <td>5.625000</td>\n",
       "      <td>0</td>\n",
       "      <td>0</td>\n",
       "      <td>0.131818</td>\n",
       "    </tr>\n",
       "    <tr>\n",
       "      <th>1</th>\n",
       "      <td>v=G7O9iWWOtTY</td>\n",
       "      <td>EXTREME ROOM TRANSFORMATION || Cool Design Ide...</td>\n",
       "      <td>1</td>\n",
       "      <td>1020</td>\n",
       "      <td>184374</td>\n",
       "      <td>63</td>\n",
       "      <td>10</td>\n",
       "      <td>2</td>\n",
       "      <td>3</td>\n",
       "      <td>0</td>\n",
       "      <td>2</td>\n",
       "      <td>6.300000</td>\n",
       "      <td>0</td>\n",
       "      <td>0</td>\n",
       "      <td>0.112500</td>\n",
       "    </tr>\n",
       "    <tr>\n",
       "      <th>2</th>\n",
       "      <td>v=cd0u5IFxBdo</td>\n",
       "      <td>LATE SUMMER HACKS TO SAVE YOUR DAY</td>\n",
       "      <td>2</td>\n",
       "      <td>629</td>\n",
       "      <td>478170</td>\n",
       "      <td>34</td>\n",
       "      <td>7</td>\n",
       "      <td>0</td>\n",
       "      <td>7</td>\n",
       "      <td>0</td>\n",
       "      <td>2</td>\n",
       "      <td>4.857143</td>\n",
       "      <td>0</td>\n",
       "      <td>0</td>\n",
       "      <td>-0.300000</td>\n",
       "    </tr>\n",
       "    <tr>\n",
       "      <th>3</th>\n",
       "      <td>v=lWSXHFPqBfo</td>\n",
       "      <td>EVERY SMART PARENT KNOWS THESE USEFUL HACKS #s...</td>\n",
       "      <td>2</td>\n",
       "      <td>41</td>\n",
       "      <td>197359</td>\n",
       "      <td>51</td>\n",
       "      <td>8</td>\n",
       "      <td>1</td>\n",
       "      <td>7</td>\n",
       "      <td>1</td>\n",
       "      <td>1</td>\n",
       "      <td>6.375000</td>\n",
       "      <td>0</td>\n",
       "      <td>0</td>\n",
       "      <td>0.257143</td>\n",
       "    </tr>\n",
       "    <tr>\n",
       "      <th>4</th>\n",
       "      <td>v=qqPFeyd84Lg</td>\n",
       "      <td>SMART HACKS TO SAVE YOUR WEDDING DAY🤵‍👰‍💍🕊️</td>\n",
       "      <td>3</td>\n",
       "      <td>784</td>\n",
       "      <td>162025</td>\n",
       "      <td>43</td>\n",
       "      <td>7</td>\n",
       "      <td>0</td>\n",
       "      <td>7</td>\n",
       "      <td>0</td>\n",
       "      <td>2</td>\n",
       "      <td>6.142857</td>\n",
       "      <td>0</td>\n",
       "      <td>0</td>\n",
       "      <td>0.214286</td>\n",
       "    </tr>\n",
       "  </tbody>\n",
       "</table>\n",
       "</div>"
      ],
      "text/plain": [
       "        video_id                                              title  \\\n",
       "0  v=lCePSP4lb-k      Wow! Let's go live! Epic decorations and DIYS   \n",
       "1  v=G7O9iWWOtTY  EXTREME ROOM TRANSFORMATION || Cool Design Ide...   \n",
       "2  v=cd0u5IFxBdo                 LATE SUMMER HACKS TO SAVE YOUR DAY   \n",
       "3  v=lWSXHFPqBfo  EVERY SMART PARENT KNOWS THESE USEFUL HACKS #s...   \n",
       "4  v=qqPFeyd84Lg        SMART HACKS TO SAVE YOUR WEDDING DAY🤵‍👰‍💍🕊️   \n",
       "\n",
       "   active_since_days  duration_seconds  total_views  num_chars  num_words  \\\n",
       "0                  1               558        10825         45          8   \n",
       "1                  1              1020       184374         63         10   \n",
       "2                  2               629       478170         34          7   \n",
       "3                  2                41       197359         51          8   \n",
       "4                  3               784       162025         43          7   \n",
       "\n",
       "   num_punctuation  num_words_uppercase  num_words_lowercase  num_stopwords  \\\n",
       "0                3                    1                    4              1   \n",
       "1                2                    3                    0              2   \n",
       "2                0                    7                    0              2   \n",
       "3                1                    7                    1              1   \n",
       "4                0                    7                    0              2   \n",
       "\n",
       "   avg_word_len  contain_digits  startswith_digits  title_sentiment  \n",
       "0      5.625000               0                  0         0.131818  \n",
       "1      6.300000               0                  0         0.112500  \n",
       "2      4.857143               0                  0        -0.300000  \n",
       "3      6.375000               0                  0         0.257143  \n",
       "4      6.142857               0                  0         0.214286  "
      ]
     },
     "execution_count": 141,
     "metadata": {},
     "output_type": "execute_result"
    }
   ],
   "source": [
    "df.head()"
   ]
  },
  {
   "cell_type": "code",
   "execution_count": 142,
   "metadata": {},
   "outputs": [
    {
     "data": {
      "text/plain": [
       "(4904, 15)"
      ]
     },
     "execution_count": 142,
     "metadata": {},
     "output_type": "execute_result"
    }
   ],
   "source": [
    "df.shape"
   ]
  },
  {
   "cell_type": "code",
   "execution_count": 143,
   "metadata": {},
   "outputs": [
    {
     "data": {
      "text/plain": [
       "4904"
      ]
     },
     "execution_count": 143,
     "metadata": {},
     "output_type": "execute_result"
    }
   ],
   "source": [
    "len(df.video_id.unique())"
   ]
  },
  {
   "cell_type": "code",
   "execution_count": 144,
   "metadata": {},
   "outputs": [
    {
     "data": {
      "text/plain": [
       "4892"
      ]
     },
     "execution_count": 144,
     "metadata": {},
     "output_type": "execute_result"
    }
   ],
   "source": [
    "len(df.title.unique())"
   ]
  },
  {
   "cell_type": "code",
   "execution_count": 145,
   "metadata": {},
   "outputs": [
    {
     "data": {
      "text/plain": [
       "False"
      ]
     },
     "execution_count": 145,
     "metadata": {},
     "output_type": "execute_result"
    }
   ],
   "source": [
    "df.isnull().values.any()"
   ]
  },
  {
   "cell_type": "code",
   "execution_count": 146,
   "metadata": {},
   "outputs": [
    {
     "data": {
      "text/plain": [
       "[Text(0.5, 0, 'Active days since'),\n",
       " Text(0, 0.5, 'Frequency'),\n",
       " Text(0.5, 1.0, 'Accumalated distribution of Active days since')]"
      ]
     },
     "execution_count": 146,
     "metadata": {},
     "output_type": "execute_result"
    },
    {
     "data": {
      "image/png": "[encoded data removed]",
      "text/plain": [
       "<Figure size 864x432 with 1 Axes>"
      ]
     },
     "metadata": {
      "needs_background": "light"
     },
     "output_type": "display_data"
    }
   ],
   "source": [
    "accumulated_percent = df.active_since_days.value_counts().sort_index() / df.active_since_days.count()\n",
    "accumulated_percent = accumulated_percent.cumsum()\n",
    "\n",
    "fig, ax = plt.subplots(figsize=(12, 6))\n",
    "ax.plot(accumulated_percent.index, accumulated_percent)\n",
    "ax.set(xlabel=\"Active days since\",\n",
    "       ylabel=\"Frequency\",\n",
    "       title=\"Accumalated distribution of Active days since\")"
   ]
  },
  {
   "cell_type": "code",
   "execution_count": 147,
   "metadata": {},
   "outputs": [
    {
     "data": {
      "text/plain": [
       "1       0.000408\n",
       "2       0.000816\n",
       "3       0.001223\n",
       "4       0.001427\n",
       "5       0.004078\n",
       "6       0.004282\n",
       "10      0.006933\n",
       "15      0.009788\n",
       "20      0.010604\n",
       "30      0.021003\n",
       "60      0.027936\n",
       "90      0.033850\n",
       "120     0.040171\n",
       "150     0.044250\n",
       "180     0.048124\n",
       "210     0.051387\n",
       "240     0.054038\n",
       "270     0.056485\n",
       "300     0.058320\n",
       "330     0.061378\n",
       "365     0.294454\n",
       "730     0.550571\n",
       "1095    0.814845\n",
       "1460    1.000000\n",
       "Name: active_since_days, dtype: float64"
      ]
     },
     "execution_count": 147,
     "metadata": {},
     "output_type": "execute_result"
    }
   ],
   "source": [
    "accumulated_percent"
   ]
  },
  {
   "cell_type": "code",
   "execution_count": 148,
   "metadata": {},
   "outputs": [
    {
     "data": {
      "text/plain": [
       "(4603, 15)"
      ]
     },
     "execution_count": 148,
     "metadata": {},
     "output_type": "execute_result"
    }
   ],
   "source": [
    "df = df[df.active_since_days >= 365]\n",
    "df.shape"
   ]
  },
  {
   "cell_type": "code",
   "execution_count": 149,
   "metadata": {},
   "outputs": [
    {
     "data": {
      "image/png": "[encoded data removed]",
      "text/plain": [
       "<Figure size 864x432 with 1 Axes>"
      ]
     },
     "metadata": {
      "needs_background": "light"
     },
     "output_type": "display_data"
    }
   ],
   "source": [
    "fig, ax = plt.subplots(figsize=(12, 6))\n",
    "ax.set(xlabel=\"Total Views\",\n",
    "       ylabel=\"Active Days Since\",\n",
    "       title=\"Total Views / Active Days since\")\n",
    "\n",
    "ax = sns.boxplot(x=\"active_since_days\", y=\"total_views\",\n",
    "                 data=df, ax = ax, palette=['gray','blue'], showfliers=False)"
   ]
  },
  {
   "cell_type": "code",
   "execution_count": 150,
   "metadata": {},
   "outputs": [
    {
     "data": {
      "text/plain": [
       "[Text(0.5, 0, 'Duration seconds'),\n",
       " Text(0, 0.5, 'Frequency'),\n",
       " Text(0.5, 1.0, 'Accumalated distribution of duration')]"
      ]
     },
     "execution_count": 150,
     "metadata": {},
     "output_type": "execute_result"
    },
    {
     "data": {
      "image/png": "[encoded data removed]",
      "text/plain": [
       "<Figure size 864x432 with 1 Axes>"
      ]
     },
     "metadata": {
      "needs_background": "light"
     },
     "output_type": "display_data"
    }
   ],
   "source": [
    "accumulated_percent = df.duration_seconds.value_counts().sort_index() / df.duration_seconds.count()\n",
    "accumulated_percent = accumulated_percent.cumsum()\n",
    "\n",
    "fig, ax = plt.subplots(figsize=(12, 6))\n",
    "ax.plot(accumulated_percent.index, accumulated_percent)\n",
    "ax.set(xlabel=\"Duration seconds\",\n",
    "       ylabel=\"Frequency\",\n",
    "       title=\"Accumalated distribution of duration\")"
   ]
  },
  {
   "cell_type": "code",
   "execution_count": 151,
   "metadata": {},
   "outputs": [],
   "source": [
    "df.reset_index(inplace=True, drop=True)"
   ]
  },
  {
   "cell_type": "markdown",
   "metadata": {},
   "source": [
    "## Feature Engineering"
   ]
  },
  {
   "cell_type": "code",
   "execution_count": 152,
   "metadata": {},
   "outputs": [],
   "source": [
    "original_features = df.columns"
   ]
  },
  {
   "cell_type": "code",
   "execution_count": 153,
   "metadata": {},
   "outputs": [
    {
     "name": "stderr",
     "output_type": "stream",
     "text": [
      "[nltk_data] Downloading package stopwords to /home/julio/nltk_data...\n",
      "[nltk_data]   Package stopwords is already up-to-date!\n"
     ]
    }
   ],
   "source": [
    "df['title'] = df.title.str.lower()\n",
    "\n",
    "tokenizer = nltk.RegexpTokenizer(r\"\\b\\d+\\b\")\n",
    "df['num_digits'] = df.title.apply(lambda x: len(tokenizer.tokenize(x)))\n",
    "\n",
    "nltk.download('stopwords')\n",
    "stopwords = nltk.corpus.stopwords.words('english')\n",
    "vectorizer = TfidfVectorizer(stop_words=stopwords, token_pattern=r\"\\b[^\\d\\W]+\\b\")\n"
   ]
  },
  {
   "cell_type": "markdown",
   "metadata": {},
   "source": [
    "Some video title uses the letter 'l' as the pipe character \"|\""
   ]
  },
  {
   "cell_type": "code",
   "execution_count": 154,
   "metadata": {},
   "outputs": [
    {
     "name": "stderr",
     "output_type": "stream",
     "text": [
      "/home/julio/.local/share/virtualenvs/5-minute-craft-titles-lBIm3JLI/lib/python3.8/site-packages/sklearn/utils/deprecation.py:87: FutureWarning: Function get_feature_names is deprecated; get_feature_names is deprecated in 1.0 and will be removed in 1.2. Please use get_feature_names_out instead.\n",
      "  warnings.warn(msg, category=FutureWarning)\n"
     ]
    }
   ],
   "source": [
    "sdf = pd.DataFrame.sparse.from_spmatrix(vectorizer.fit_transform(df.title),\n",
    "                         columns=vectorizer.get_feature_names())\n",
    "df = df.join(sdf)"
   ]
  },
  {
   "cell_type": "code",
   "execution_count": 171,
   "metadata": {},
   "outputs": [
    {
     "name": "stderr",
     "output_type": "stream",
     "text": [
      "/home/julio/.local/share/virtualenvs/5-minute-craft-titles-lBIm3JLI/lib/python3.8/site-packages/sklearn/utils/validation.py:616: UserWarning: pandas.DataFrame with sparse columns found.It will be converted to a dense numpy array.\n",
      "  warnings.warn(\n",
      "/home/julio/.local/share/virtualenvs/5-minute-craft-titles-lBIm3JLI/lib/python3.8/site-packages/sklearn/utils/validation.py:616: UserWarning: pandas.DataFrame with sparse columns found.It will be converted to a dense numpy array.\n",
      "  warnings.warn(\n"
     ]
    }
   ],
   "source": [
    "cols_to_drop = ['video_id','title']\n",
    "X = df.drop(cols_to_drop, axis=1)\n",
    "\n",
    "X = StandardScaler().fit_transform(X)"
   ]
  },
  {
   "cell_type": "code",
   "execution_count": 206,
   "metadata": {},
   "outputs": [],
   "source": [
    "cols_weight = ['total_views','active_since_days']\n",
    "p = 4\n",
    "\n",
    "for col in cols_weight:\n",
    "    index = list(df.columns).index(col) - len(cols_to_drop)\n",
    "    X[:,index] *= p "
   ]
  },
  {
   "cell_type": "code",
   "execution_count": 207,
   "metadata": {},
   "outputs": [],
   "source": [
    "kmeans = KMeans(4)\n",
    "df['cluster'] = kmeans.fit_predict(X)"
   ]
  },
  {
   "cell_type": "code",
   "execution_count": 208,
   "metadata": {},
   "outputs": [
    {
     "data": {
      "text/plain": [
       "2    2308\n",
       "0    1994\n",
       "1     282\n",
       "3      19\n",
       "Name: cluster, dtype: int64"
      ]
     },
     "execution_count": 208,
     "metadata": {},
     "output_type": "execute_result"
    }
   ],
   "source": [
    "df.cluster.value_counts()"
   ]
  },
  {
   "cell_type": "code",
   "execution_count": 209,
   "metadata": {},
   "outputs": [
    {
     "data": {
      "image/png": "[encoded data removed]",
      "text/plain": [
       "<Figure size 864x432 with 1 Axes>"
      ]
     },
     "metadata": {
      "needs_background": "light"
     },
     "output_type": "display_data"
    }
   ],
   "source": [
    "fig, ax = plt.subplots(figsize=(12, 6))\n",
    "ax.set(xlabel=\"Total Views\",\n",
    "       ylabel=\"Active Days Since\",\n",
    "       title=\"Total Views / Active Days since\")\n",
    "\n",
    "ax = sns.boxplot(x=\"cluster\", y=\"total_views\",\n",
    "                 data=df, ax = ax, palette=['gray','blue','green','red'])"
   ]
  },
  {
   "cell_type": "code",
   "execution_count": 210,
   "metadata": {},
   "outputs": [
    {
     "data": {
      "image/png": "[encoded data removed]",
      "text/plain": [
       "<Figure size 864x432 with 1 Axes>"
      ]
     },
     "metadata": {
      "needs_background": "light"
     },
     "output_type": "display_data"
    }
   ],
   "source": [
    "fig, ax = plt.subplots(figsize=(12, 6))\n",
    "ax.set(xlabel=\"Total Views\",\n",
    "       ylabel=\"Active Days Since\",\n",
    "       title=\"Total Views / Active Days since\")\n",
    "\n",
    "ax = sns.boxplot(x=\"cluster\", y=\"duration_seconds\",\n",
    "                 data=df, ax = ax, palette=['gray','blue','green','red'])"
   ]
  },
  {
   "cell_type": "code",
   "execution_count": 211,
   "metadata": {},
   "outputs": [
    {
     "data": {
      "image/png": "[encoded data removed]",
      "text/plain": [
       "<Figure size 864x432 with 1 Axes>"
      ]
     },
     "metadata": {
      "needs_background": "light"
     },
     "output_type": "display_data"
    }
   ],
   "source": [
    "fig, ax = plt.subplots(figsize=(12, 6))\n",
    "ax.set(xlabel=\"Active Days Since\",\n",
    "       ylabel=\"Duration\",\n",
    "       title=\"Total Views / Active Days since\")\n",
    "\n",
    "ax = sns.scatterplot(x=\"active_since_days\", y=\"duration_seconds\",hue=\"cluster\",\n",
    "                 data=df, ax = ax, palette=['gray','blue','green','red'])"
   ]
  },
  {
   "cell_type": "code",
   "execution_count": 222,
   "metadata": {},
   "outputs": [
    {
     "name": "stdout",
     "output_type": "stream",
     "text": [
      "Evaluating most frequent words for cluster: 2\n",
      "try        56.487183\n",
      "know       57.493648\n",
      "cool       57.894758\n",
      "beauty     62.579584\n",
      "diy        67.601554\n",
      "tricks     70.115836\n",
      "crazy      72.417234\n",
      "life      101.165320\n",
      "ideas     115.274594\n",
      "hacks     199.640144\n",
      "dtype: float64\n",
      "Evaluating most frequent words for cluster: 1\n",
      "ideas      6.139481\n",
      "save       6.209223\n",
      "genius     6.756338\n",
      "crazy      6.884046\n",
      "tricks     7.145674\n",
      "cool       7.339494\n",
      "make       7.633083\n",
      "beauty    10.180335\n",
      "life      21.029921\n",
      "hacks     30.293503\n",
      "dtype: float64\n",
      "Evaluating most frequent words for cluster: 3\n",
      "balloons    0.807461\n",
      "lips        0.812059\n",
      "amazing     0.812653\n",
      "make        0.999182\n",
      "simple      1.168716\n",
      "look        1.202566\n",
      "every       1.291138\n",
      "day         1.398810\n",
      "life        2.004799\n",
      "hacks       2.386440\n",
      "dtype: float64\n",
      "Evaluating most frequent words for cluster: 0\n",
      "l          46.006868\n",
      "know       49.519517\n",
      "easy       50.778465\n",
      "tricks     52.079882\n",
      "tips       52.585779\n",
      "minute     55.888191\n",
      "make       55.939605\n",
      "crafts     65.781891\n",
      "life      103.988733\n",
      "hacks     141.889787\n",
      "dtype: float64\n"
     ]
    }
   ],
   "source": [
    "for c in df.cluster.unique().sort_values():\n",
    "    print(f'Evaluating most frequent words for cluster: {c}')\n",
    "    cluster_data = df[df.cluster == c].copy()\n",
    "    print(cluster_data.drop(list(original_features)+['cluster','num_digits'], axis=1).sum().sort_values()[-10::])\n"
   ]
  },
  {
   "cell_type": "code",
   "execution_count": 213,
   "metadata": {},
   "outputs": [
    {
     "data": {
      "text/plain": [
       "1"
      ]
     },
     "execution_count": 213,
     "metadata": {},
     "output_type": "execute_result"
    }
   ],
   "source": [
    "1"
   ]
  },
  {
   "cell_type": "code",
   "execution_count": null,
   "metadata": {},
   "outputs": [],
   "source": []
  }
 ],
 "metadata": {
  "interpreter": {
   "hash": "b12c789a1dc990d59e2402034824979c03b6fa573dba96e983e50845c4cde4e9"
  },
  "kernelspec": {
   "display_name": "Python 3.8.10 64-bit ('5-minute-craft-titles-lBIm3JLI': pipenv)",
   "language": "python",
   "name": "python3"
  },
  "language_info": {
   "codemirror_mode": {
    "name": "ipython",
    "version": 3
   },
   "file_extension": ".py",
   "mimetype": "text/x-python",
   "name": "python",
   "nbconvert_exporter": "python",
   "pygments_lexer": "ipython3",
   "version": "3.8.10"
  },
  "orig_nbformat": 4
 },
 "nbformat": 4,
 "nbformat_minor": 2
}
